{
 "cells": [
  {
   "cell_type": "markdown",
   "id": "e079539d",
   "metadata": {},
   "source": [
    "# PRABAL GHOSH           MATHS EXAM CODING   QUESTION\n"
   ]
  },
  {
   "cell_type": "markdown",
   "id": "f03270f1",
   "metadata": {},
   "source": [
    "**Exercise 4:\n",
    "Let consider the dataset in data2.txt.\n",
    "Make a representation of it and propose a family of distribution that can model those observa-\n",
    "tions.**"
   ]
  },
  {
   "cell_type": "code",
   "execution_count": 1,
   "id": "45318dba",
   "metadata": {},
   "outputs": [
    {
     "data": {
      "text/html": [
       "<div>\n",
       "<style scoped>\n",
       "    .dataframe tbody tr th:only-of-type {\n",
       "        vertical-align: middle;\n",
       "    }\n",
       "\n",
       "    .dataframe tbody tr th {\n",
       "        vertical-align: top;\n",
       "    }\n",
       "\n",
       "    .dataframe thead th {\n",
       "        text-align: right;\n",
       "    }\n",
       "</style>\n",
       "<table border=\"1\" class=\"dataframe\">\n",
       "  <thead>\n",
       "    <tr style=\"text-align: right;\">\n",
       "      <th></th>\n",
       "      <th>3.895842</th>\n",
       "    </tr>\n",
       "  </thead>\n",
       "  <tbody>\n",
       "    <tr>\n",
       "      <th>0</th>\n",
       "      <td>3.401982</td>\n",
       "    </tr>\n",
       "    <tr>\n",
       "      <th>1</th>\n",
       "      <td>2.945261</td>\n",
       "    </tr>\n",
       "    <tr>\n",
       "      <th>2</th>\n",
       "      <td>-3.628177</td>\n",
       "    </tr>\n",
       "    <tr>\n",
       "      <th>3</th>\n",
       "      <td>2.833800</td>\n",
       "    </tr>\n",
       "    <tr>\n",
       "      <th>4</th>\n",
       "      <td>5.135134</td>\n",
       "    </tr>\n",
       "  </tbody>\n",
       "</table>\n",
       "</div>"
      ],
      "text/plain": [
       "   3.895842\n",
       "0  3.401982\n",
       "1  2.945261\n",
       "2 -3.628177\n",
       "3  2.833800\n",
       "4  5.135134"
      ]
     },
     "execution_count": 1,
     "metadata": {},
     "output_type": "execute_result"
    }
   ],
   "source": [
    "import numpy as np\n",
    "import pandas as pd\n",
    "import matplotlib.pyplot as plt\n",
    "from sklearn.model_selection import train_test_split\n",
    "from math import exp\n",
    "plt.rcParams[\"figure.figsize\"] = (10, 6)\n",
    "# Load the data\n",
    "data = pd.read_csv(\"Data2.txt\")\n",
    "\n",
    "data.head()"
   ]
  },
  {
   "cell_type": "code",
   "execution_count": 2,
   "id": "431237c7",
   "metadata": {},
   "outputs": [
    {
     "data": {
      "text/plain": [
       "12"
      ]
     },
     "execution_count": 2,
     "metadata": {},
     "output_type": "execute_result"
    }
   ],
   "source": [
    "bin=int(1+3.22*(np.log10(len(data))))\n",
    "bin"
   ]
  },
  {
   "cell_type": "code",
   "execution_count": 3,
   "id": "a185bfd2",
   "metadata": {},
   "outputs": [
    {
     "data": {
      "text/plain": [
       "0       3.401982\n",
       "1       2.945261\n",
       "2      -3.628177\n",
       "3       2.833800\n",
       "4       5.135134\n",
       "          ...   \n",
       "4994    3.807107\n",
       "4995    3.770204\n",
       "4996   -3.642612\n",
       "4997    1.995384\n",
       "4998    2.417759\n",
       "Name: 3.895842, Length: 4999, dtype: float64"
      ]
     },
     "execution_count": 3,
     "metadata": {},
     "output_type": "execute_result"
    }
   ],
   "source": [
    "X = data.iloc[:, 0]\n",
    "X"
   ]
  },
  {
   "cell_type": "code",
   "execution_count": 4,
   "id": "c70b1b90",
   "metadata": {},
   "outputs": [
    {
     "data": {
      "text/plain": [
       "4999"
      ]
     },
     "execution_count": 4,
     "metadata": {},
     "output_type": "execute_result"
    }
   ],
   "source": [
    "x=np.linspace(0, 4998,num=4999)\n",
    "len(x)"
   ]
  },
  {
   "cell_type": "code",
   "execution_count": 28,
   "id": "4af3262b",
   "metadata": {},
   "outputs": [
    {
     "data": {
      "text/plain": [
       "(array([0.00274222, 0.        , 0.00548443, 0.00274222, 0.00548443,\n",
       "        0.00137111, 0.00685554, 0.01096887, 0.0150822 , 0.00685554,\n",
       "        0.02605107, 0.02056663, 0.0315355 , 0.04250437, 0.0466177 ,\n",
       "        0.05210213, 0.06855544, 0.06032878, 0.06992655, 0.0466177 ,\n",
       "        0.08912207, 0.07541098, 0.06992655, 0.08500874, 0.08226652,\n",
       "        0.07952431, 0.06444211, 0.05073102, 0.06032878, 0.05347324,\n",
       "        0.04798881, 0.03016439, 0.02605107, 0.02605107, 0.01096887,\n",
       "        0.01233998, 0.00822665, 0.01233998, 0.00274222, 0.00274222,\n",
       "        0.00137111, 0.        , 0.00137111, 0.        , 0.        ,\n",
       "        0.        , 0.        , 0.        , 0.        , 0.        ,\n",
       "        0.        , 0.        , 0.00137111, 0.        , 0.        ,\n",
       "        0.        , 0.        , 0.00274222, 0.00822665, 0.00822665,\n",
       "        0.0150822 , 0.02879328, 0.03290661, 0.04387548, 0.04935991,\n",
       "        0.05895768, 0.10831759, 0.13573977, 0.16041972, 0.21663518,\n",
       "        0.20840853, 0.22211962, 0.2509129 , 0.2824484 , 0.30438614,\n",
       "        0.32221055, 0.29890171, 0.3290661 , 0.29478838, 0.32632388,\n",
       "        0.27147953, 0.25639734, 0.20840853, 0.20566631, 0.16179083,\n",
       "        0.15493529, 0.10420426, 0.0946065 , 0.06444211, 0.05347324,\n",
       "        0.04387548, 0.03839104, 0.02742217, 0.02056663, 0.00411333,\n",
       "        0.00411333, 0.00959776, 0.00137111, 0.        , 0.00411333]),\n",
       " array([-7.226604  , -7.08070747, -6.93481094, -6.78891441, -6.64301788,\n",
       "        -6.49712135, -6.35122482, -6.20532829, -6.05943176, -5.91353523,\n",
       "        -5.7676387 , -5.62174217, -5.47584564, -5.32994911, -5.18405258,\n",
       "        -5.03815605, -4.89225952, -4.74636299, -4.60046646, -4.45456993,\n",
       "        -4.3086734 , -4.16277687, -4.01688034, -3.87098381, -3.72508728,\n",
       "        -3.57919075, -3.43329422, -3.28739769, -3.14150116, -2.99560463,\n",
       "        -2.8497081 , -2.70381157, -2.55791504, -2.41201851, -2.26612198,\n",
       "        -2.12022545, -1.97432892, -1.82843239, -1.68253586, -1.53663933,\n",
       "        -1.3907428 , -1.24484627, -1.09894974, -0.95305321, -0.80715668,\n",
       "        -0.66126015, -0.51536362, -0.36946709, -0.22357056, -0.07767403,\n",
       "         0.0682225 ,  0.21411903,  0.36001556,  0.50591209,  0.65180862,\n",
       "         0.79770515,  0.94360168,  1.08949821,  1.23539474,  1.38129127,\n",
       "         1.5271878 ,  1.67308433,  1.81898086,  1.96487739,  2.11077392,\n",
       "         2.25667045,  2.40256698,  2.54846351,  2.69436004,  2.84025657,\n",
       "         2.9861531 ,  3.13204963,  3.27794616,  3.42384269,  3.56973922,\n",
       "         3.71563575,  3.86153228,  4.00742881,  4.15332534,  4.29922187,\n",
       "         4.4451184 ,  4.59101493,  4.73691146,  4.88280799,  5.02870452,\n",
       "         5.17460105,  5.32049758,  5.46639411,  5.61229064,  5.75818717,\n",
       "         5.9040837 ,  6.04998023,  6.19587676,  6.34177329,  6.48766982,\n",
       "         6.63356635,  6.77946288,  6.92535941,  7.07125594,  7.21715247,\n",
       "         7.363049  ]),\n",
       " <BarContainer object of 100 artists>)"
      ]
     },
     "execution_count": 28,
     "metadata": {},
     "output_type": "execute_result"
    },
    {
     "data": {
      "image/png": "[encoded data removed]",
      "text/plain": [
       "<Figure size 720x432 with 1 Axes>"
      ]
     },
     "metadata": {
      "needs_background": "light"
     },
     "output_type": "display_data"
    }
   ],
   "source": [
    "plt.hist(X,bins=100,density=True)"
   ]
  },
  {
   "cell_type": "markdown",
   "id": "90f5a14e",
   "metadata": {},
   "source": [
    "**The data is distributed in subsections. One in around -4 and another is around 4.\n",
    "So here I can seperate the data withrespect to pint 0. and apply normal distribution.**"
   ]
  },
  {
   "cell_type": "code",
   "execution_count": 8,
   "id": "0b334bdc",
   "metadata": {},
   "outputs": [],
   "source": [
    "data_list=[]\n",
    "for i in X:\n",
    "    data_list.append(i)"
   ]
  },
  {
   "cell_type": "code",
   "execution_count": 10,
   "id": "0606eea1",
   "metadata": {},
   "outputs": [],
   "source": [
    "data1=[] # is for right side distribution\n",
    "data2=[] # is for left side distribution\n",
    "for i in data_list:\n",
    "    if i>0:\n",
    "        data1.append(i)\n",
    "    else:\n",
    "        data2.append(i)\n",
    "    \n",
    "\n",
    "    "
   ]
  },
  {
   "cell_type": "code",
   "execution_count": 21,
   "id": "c271cfc3",
   "metadata": {},
   "outputs": [
    {
     "data": {
      "text/plain": [
       "0.9522098362932645"
      ]
     },
     "execution_count": 21,
     "metadata": {},
     "output_type": "execute_result"
    }
   ],
   "source": [
    "var1=np.var(data1)\n",
    "var1"
   ]
  },
  {
   "cell_type": "code",
   "execution_count": 13,
   "id": "57537a06",
   "metadata": {},
   "outputs": [],
   "source": [
    "var2=np.var(data2)"
   ]
  },
  {
   "cell_type": "code",
   "execution_count": 14,
   "id": "9f523ad6",
   "metadata": {},
   "outputs": [
    {
     "data": {
      "text/plain": [
       "3.9906373588606"
      ]
     },
     "execution_count": 14,
     "metadata": {},
     "output_type": "execute_result"
    }
   ],
   "source": [
    "mean1=np.mean(data1)\n",
    "mean1"
   ]
  },
  {
   "cell_type": "code",
   "execution_count": 16,
   "id": "c6eec7c4",
   "metadata": {},
   "outputs": [
    {
     "data": {
      "text/plain": [
       "-4.004748573643411"
      ]
     },
     "execution_count": 16,
     "metadata": {},
     "output_type": "execute_result"
    }
   ],
   "source": [
    "mean2=np.mean(data2)\n",
    "mean2"
   ]
  },
  {
   "cell_type": "code",
   "execution_count": 29,
   "id": "6d1da260",
   "metadata": {},
   "outputs": [],
   "source": [
    "def function1(X,mean1,std1,mean2,std2):\n",
    "    rest1= 1/np.sqrt(2*np.pi*std1**2)*np.exp((-1/(2*std1**2))*(X-mean1)**2)\n",
    "    rest2= 1/np.sqrt(2*np.pi*std2**2)*np.exp((-1/(2*std2**2))*(X-mean2)**2)\n",
    "    result= (rest1*3+rest2)/4    # WEIGHTED avg\n",
    "    return result"
   ]
  },
  {
   "cell_type": "code",
   "execution_count": 30,
   "id": "ffbb7965",
   "metadata": {},
   "outputs": [
    {
     "data": {
      "text/plain": [
       "Text(0, 0.5, 'probability density')"
      ]
     },
     "execution_count": 30,
     "metadata": {},
     "output_type": "execute_result"
    },
    {
     "data": {
      "image/png": "[encoded data removed]",
      "text/plain": [
       "<Figure size 720x432 with 1 Axes>"
      ]
     },
     "metadata": {
      "needs_background": "light"
     },
     "output_type": "display_data"
    }
   ],
   "source": [
    "plt.hist(X,bins=100,density=True)\n",
    "xd2=np.linspace(np.min(X),np.max(X),1000)\n",
    "plt.plot(xd2,function1(xd2,mean1,var1**(0.5),mean2,var2**(0.5)))\n",
    "plt.ylabel(\"probability density\")\n",
    "\n"
   ]
  },
  {
   "cell_type": "markdown",
   "id": "7bb14eb2",
   "metadata": {},
   "source": [
    "so its a normal distribution."
   ]
  },
  {
   "cell_type": "code",
   "execution_count": null,
   "id": "c8579fa8",
   "metadata": {},
   "outputs": [],
   "source": []
  }
 ],
 "metadata": {
  "kernelspec": {
   "display_name": "Python 3 (ipykernel)",
   "language": "python",
   "name": "python3"
  },
  "language_info": {
   "codemirror_mode": {
    "name": "ipython",
    "version": 3
   },
   "file_extension": ".py",
   "mimetype": "text/x-python",
   "name": "python",
   "nbconvert_exporter": "python",
   "pygments_lexer": "ipython3",
   "version": "3.9.7"
  }
 },
 "nbformat": 4,
 "nbformat_minor": 5
}
